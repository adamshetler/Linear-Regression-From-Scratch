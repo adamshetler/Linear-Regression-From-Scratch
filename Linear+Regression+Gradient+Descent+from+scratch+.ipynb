{
 "cells": [
  {
   "cell_type": "code",
   "execution_count": 1,
   "metadata": {
    "collapsed": true
   },
   "outputs": [],
   "source": [
    "import mglearn\n",
    "import matplotlib.pyplot as plt\n",
    "import  pandas as pd \n",
    "import numpy as np\n",
    "from IPython.display import display "
   ]
  },
  {
   "cell_type": "code",
   "execution_count": 83,
   "metadata": {},
   "outputs": [
    {
     "data": {
      "image/png": "[encoded data removed]",
      "text/plain": [
       "<matplotlib.figure.Figure at 0xd56f160>"
      ]
     },
     "metadata": {},
     "output_type": "display_data"
    }
   ],
   "source": [
    "#Load dataset and plot \n",
    "X, y = mglearn.datasets.make_wave(n_samples=40)\n",
    "plt.plot(X,y,'o')\n",
    "plt.ylim(-3,3)\n",
    "plt.xlabel(\"Feature\")\n",
    "plt.ylabel(\"Target\")\n",
    "plt.show()"
   ]
  },
  {
   "cell_type": "code",
   "execution_count": 6,
   "metadata": {},
   "outputs": [
    {
     "name": "stdout",
     "output_type": "stream",
     "text": [
      "size of X: 40\n",
      "size of y: 40\n"
     ]
    }
   ],
   "source": [
    "#check size of training data \n",
    "print(\"size of X: {}\".format(X.size))\n",
    "print(\"size of y: {}\".format(y.size))\n"
   ]
  },
  {
   "cell_type": "code",
   "execution_count": 204,
   "metadata": {
    "collapsed": true
   },
   "outputs": [],
   "source": [
    "#set alpha for gradient descent (step size)\n",
    "alpha = .1"
   ]
  },
  {
   "cell_type": "code",
   "execution_count": 8,
   "metadata": {
    "collapsed": true
   },
   "outputs": [],
   "source": [
    "#add column of ones to training set \n",
    "col_ones = np.ones((40,1))\n",
    "X_new = np.append(col_ones,X,axis=1)\n",
    "X_new.shape\n",
    "#create variable m which is the number of training examples \n",
    "m = X.size"
   ]
  },
  {
   "cell_type": "code",
   "execution_count": 9,
   "metadata": {
    "collapsed": true
   },
   "outputs": [],
   "source": [
    "#create empty matrix that will be filled with costs for each iteraton of gradient descent \n",
    "J_history = np.zeros((1,25))"
   ]
  },
  {
   "cell_type": "code",
   "execution_count": 10,
   "metadata": {},
   "outputs": [
    {
     "name": "stdout",
     "output_type": "stream",
     "text": [
      "[[ 0.]\n",
      " [ 0.]]\n"
     ]
    }
   ],
   "source": [
    "#make y a matrix which will make matrix computations easier \n",
    "y.shape\n",
    "y_new=np.asmatrix(y).transpose()\n",
    "#create Theta vector for parameters \n",
    "Theta = np.zeros((2,1))\n",
    "#Create Temp_Theta vector to store Theta updates in gradient descent \n",
    "Temp_Theta = np.zeros((2,1))\n",
    "print(Theta)"
   ]
  },
  {
   "cell_type": "code",
   "execution_count": 11,
   "metadata": {
    "collapsed": true
   },
   "outputs": [],
   "source": [
    "#function to compute the cost with given choice of Theta \n",
    "def ComputeCost(X,y,theta):\n",
    "    J=0\n",
    "    for i in range(0,m):\n",
    "        J = J + (((np.dot(theta.transpose(),X_new[i,:].transpose())-y[i])**2)/(2*m))\n",
    "        \n",
    "    return J"
   ]
  },
  {
   "cell_type": "code",
   "execution_count": 127,
   "metadata": {
    "collapsed": true
   },
   "outputs": [],
   "source": [
    "#The first for loop loops over the number of iterations of gradient descent\n",
    "#The inner for loop computes partial derivative and updates Theta values simultaneously \n",
    "#J_history calls ComputeCost() function and keeps track of the cost for each iteration \n",
    "for iters in range(0,25):\n",
    "    for i in range(0,X_new[0,:].size):\n",
    "        Temp_Theta[i] = Theta[i]-(alpha)*np.dot(((np.dot(X_new,Theta)-y_new).transpose()),X_new[:,i])/m\n",
    "    Theta = Temp_Theta\n",
    "    J_history[0,iters] = ComputeCost(X,y_new,Theta)"
   ]
  },
  {
   "cell_type": "code",
   "execution_count": 128,
   "metadata": {},
   "outputs": [
    {
     "name": "stdout",
     "output_type": "stream",
     "text": [
      "0.163514063356\n",
      "0.163514063202\n"
     ]
    }
   ],
   "source": [
    "#print optimal Theta values found above \n",
    "Theta\n",
    "#create val array which will be filled with our predicted values \n",
    "val = np.zeros((40,1))\n",
    "#sanity check- confirm cost is decreasing over iterations\n",
    "print(J_history[0,0])\n",
    "print(J_history[0,24])"
   ]
  },
  {
   "cell_type": "code",
   "execution_count": 129,
   "metadata": {
    "collapsed": true
   },
   "outputs": [],
   "source": [
    "#calculate predicted values \n",
    "for j in range(0,40):\n",
    "    val[j] = Theta[0]+Theta[1]*X[j]"
   ]
  },
  {
   "cell_type": "code",
   "execution_count": 163,
   "metadata": {},
   "outputs": [
    {
     "data": {
      "image/png": "[encoded data removed]",
      "text/plain": [
       "<matplotlib.figure.Figure at 0xde728d0>"
      ]
     },
     "metadata": {},
     "output_type": "display_data"
    }
   ],
   "source": [
    "#plot prediceted values and original training data \n",
    "plt.plot(X,val,'r-')\n",
    "plt.plot(X,y,'bo')\n",
    "plt.show()"
   ]
  },
  {
   "cell_type": "code",
   "execution_count": 206,
   "metadata": {},
   "outputs": [
    {
     "name": "stdout",
     "output_type": "stream",
     "text": [
      "[[-0.06188057]\n",
      " [ 0.4820613 ]]\n"
     ]
    }
   ],
   "source": [
    "print(Theta)"
   ]
  },
  {
   "cell_type": "code",
   "execution_count": 142,
   "metadata": {
    "collapsed": true
   },
   "outputs": [],
   "source": [
    "#load linear regression from sklearn- we will confirm our answers found above \n",
    "from sklearn.linear_model import LinearRegression"
   ]
  },
  {
   "cell_type": "code",
   "execution_count": 21,
   "metadata": {
    "collapsed": true
   },
   "outputs": [],
   "source": [
    "#load dataset \n",
    "X,y = mglearn.datasets.make_wave(n_samples=40)"
   ]
  },
  {
   "cell_type": "code",
   "execution_count": 22,
   "metadata": {
    "collapsed": true
   },
   "outputs": [],
   "source": [
    "#train model \n",
    "lr = LinearRegression().fit(X,y)"
   ]
  },
  {
   "cell_type": "code",
   "execution_count": 23,
   "metadata": {},
   "outputs": [
    {
     "name": "stdout",
     "output_type": "stream",
     "text": [
      "[ 0.48206114]\n",
      "-0.0618821003468\n"
     ]
    }
   ],
   "source": [
    "#print paramaeters found from model- these should match our Theta matrix above \n",
    "print(lr.coef_)\n",
    "print(lr.intercept_)"
   ]
  }
 ],
 "metadata": {
  "kernelspec": {
   "display_name": "Python 2",
   "language": "python",
   "name": "python2"
  },
  "language_info": {
   "codemirror_mode": {
    "name": "ipython",
    "version": 2
   },
   "file_extension": ".py",
   "mimetype": "text/x-python",
   "name": "python",
   "nbconvert_exporter": "python",
   "pygments_lexer": "ipython2",
   "version": "2.7.13"
  }
 },
 "nbformat": 4,
 "nbformat_minor": 2
}
